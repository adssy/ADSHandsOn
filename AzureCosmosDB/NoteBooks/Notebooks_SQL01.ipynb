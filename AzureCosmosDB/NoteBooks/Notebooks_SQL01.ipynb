{
  "cells": [
    {
      "cell_type": "markdown",
      "metadata": {
        "nteract": {
          "transient": {
            "deleting": false
          }
        }
      },
      "source": ".Net Test"
    },
    {
      "cell_type": "code",
      "execution_count": null,
      "metadata": {
        "collapsed": true,
        "execution": {
          "iopub.status.busy": "2020-11-17T11:32:55.773Z",
          "iopub.status.idle": "2020-11-17T11:32:55.792Z",
          "shell.execute_reply": "2020-11-17T11:32:55.801Z"
        },
        "jupyter": {
          "outputs_hidden": false,
          "source_hidden": false
        },
        "nteract": {
          "transient": {
            "deleting": false
          }
        },
        "trusted": true
      },
      "outputs": [],
      "source": "#r \"nuget: Bogus\"\r\n#r \"nuget: System.Linq\"\r\n#r \"nuget: System.Linq.Expressions\""
    },
    {
      "cell_type": "code",
      "execution_count": null,
      "metadata": {
        "collapsed": true,
        "execution": {
          "iopub.execute_input": "2020-11-17T11:32:55.985Z",
          "iopub.status.busy": "2020-11-17T11:32:55.947Z",
          "iopub.status.idle": "2020-11-17T11:32:56.211Z",
          "shell.execute_reply": "2020-11-17T11:32:56.216Z"
        },
        "jupyter": {
          "outputs_hidden": false,
          "source_hidden": false
        },
        "nteract": {
          "transient": {
            "deleting": false
          }
        },
        "trusted": true
      },
      "outputs": [],
      "source": "using System;\r\nusing Microsoft.Azure.Cosmos;\r\nusing System.Collections;\r\nusing Bogus;\r\n\r\n// Initialize a new instance of CosmosClient using the built-in account endpoint and key parameters\r\nCosmosClient cosmosClient = new CosmosClient(Cosmos.Endpoint, Cosmos.Key);\r\n\r\n// Create a new database and a new container\r\nMicrosoft.Azure.Cosmos.Database database = await cosmosClient.CreateDatabaseIfNotExistsAsync(\"AzTestDB\");\r\nContainer container = await database.CreateContainerIfNotExistsAsync(\"User\", \"/UserId\");\r\n\r\nDisplay.AsMarkdown(@\"\r\nCreated database AzTestDB and container User. You can see these new resources by refreshing your resource pane under the Data section.\r\n\");\r\n\r\n"
    },
    {
      "cell_type": "code",
      "execution_count": null,
      "metadata": {
        "collapsed": true,
        "execution": {
          "iopub.status.busy": "2020-11-17T11:32:56.008Z",
          "iopub.status.idle": "2020-11-17T11:32:56.042Z",
          "shell.execute_reply": "2020-11-17T11:32:56.051Z"
        },
        "jupyter": {
          "outputs_hidden": false,
          "source_hidden": false
        },
        "nteract": {
          "transient": {
            "deleting": false
          }
        },
        "trusted": true
      },
      "outputs": [],
      "source": "using System;\r\nusing Bogus;\r\n\r\n\r\npublic class User\r\n{\r\n    public User(string userId, string ssn)\r\n    {\r\n        this.UserId = userId;\r\n        this.SSN = ssn;\r\n    }\r\n    public Guid id { get; set; } = Guid.NewGuid();\r\n    public string UserId { get; set; }\r\n    public string FirstName { get; set; }\r\n    public string LastName { get; set; }\r\n    public string FullName { get; set; }\r\n    public string Email { get; set; }\r\n    public string Address { get; set; }\r\n    public string PhoneNumber { get; set; }\r\n    public string IPAddress { get; set; }\r\n    public Guid CartId { get; set; }\r\n    public string SSN { get; set; }\r\n    public Gender Gender { get; set; }\r\n}\r\n\r\npublic enum Gender\r\n{\r\n    Male,\r\n    Female\r\n}\r\n\r\n\r\n"
    },
    {
      "cell_type": "code",
      "execution_count": null,
      "metadata": {
        "collapsed": true,
        "execution": {
          "iopub.status.busy": "2020-11-17T11:32:56.071Z",
          "iopub.status.idle": "2020-11-17T11:32:56.224Z",
          "shell.execute_reply": "2020-11-17T11:32:56.230Z"
        },
        "jupyter": {
          "outputs_hidden": false,
          "source_hidden": false
        },
        "nteract": {
          "transient": {
            "deleting": false
          }
        },
        "trusted": true
      },
      "outputs": [],
      "source": "using Bogus;\r\nusing System;\r\nusing System.Collections.Generic;\r\n\r\nstatic List<User> Generate(int num)\r\n{\r\n    var faker = new Faker();\r\n\r\n    var userIds = 0;\r\n    var testUsers = new Faker<User>()\r\n        .CustomInstantiator(f => new User(userIds++.ToString(), f.Random.Replace(\"######-#######\")))\r\n        .RuleFor(u => u.FirstName, f => faker.Name.FirstName())\r\n        .RuleFor(u => u.LastName, f => faker.Name.LastName())\r\n        .RuleFor(u => u.IPAddress, f => faker.Internet.Ip())\r\n        .RuleFor(u => u.Email, (f, u) => faker.Internet.Email())\r\n        .RuleFor(u => u.Address, f => faker.Address.CountryCode().OrDefine(f,.8f))\r\n        .RuleFor(u => u.PhoneNumber, f => faker.Phone.PhoneNumber())\r\n        .RuleFor(u => u.Gender, f => f.PickRandom<Gender>())\r\n        .RuleFor(u => u.CartId, f => Guid.NewGuid())\r\n        .RuleFor(u => u.FullName, (f, u) => u.FirstName + \" \" + u.LastName);\r\n\r\n    var result = testUsers.Generate(num);\r\n\r\n    return result;\r\n}\r\npublic static object OrDefine(this object value, Faker f, float nullWeight)\r\n{\r\n    return f.Random.Float() < nullWeight ? \"KR\" : value;\r\n}\r\n"
    },
    {
      "cell_type": "code",
      "execution_count": null,
      "metadata": {
        "collapsed": true,
        "execution": {
          "iopub.execute_input": "2020-11-17T11:33:03.080Z",
          "iopub.status.busy": "2020-11-17T11:33:03.026Z",
          "iopub.status.idle": "2020-11-17T11:33:03.149Z",
          "shell.execute_reply": "2020-11-17T11:33:03.152Z"
        },
        "jupyter": {
          "outputs_hidden": false,
          "source_hidden": false
        },
        "nteract": {
          "transient": {
            "deleting": false
          }
        },
        "trusted": true
      },
      "outputs": [],
      "source": "foreach(var user in Generate(1000))\r\n{\r\n    await container.CreateItemAsync<User>(user);\r\n}\r\n\r\nDisplay.AsMarkdown(@\"\r\nCreated 1000 items in User container. \r\n\");\r\n"
    },
    {
      "cell_type": "code",
      "execution_count": null,
      "metadata": {
        "collapsed": true,
        "execution": {
          "iopub.status.busy": "2020-11-17T11:33:03.073Z",
          "iopub.status.idle": "2020-11-17T11:33:03.443Z",
          "shell.execute_reply": "2020-11-17T11:33:03.456Z"
        },
        "jupyter": {
          "outputs_hidden": false,
          "source_hidden": false
        },
        "nteract": {
          "transient": {
            "deleting": false
          }
        },
        "trusted": true
      },
      "outputs": [],
      "source": "QueryDefinition queryDefinition = new QueryDefinition(\"SELECT TOP 100 * FROM c\");\r\n\r\nFeedIterator<User> queryResultSetIterator = container.GetItemQueryIterator<User>(queryDefinition);\r\n\r\nList<User> userEvents = new List<User>();\r\n\r\nwhile (queryResultSetIterator.HasMoreResults)\r\n{\r\n    FeedResponse<User> currentResultSet = await queryResultSetIterator.ReadNextAsync();\r\n    foreach (User userEvent in currentResultSet)\r\n    {\r\n        userEvents.Add(userEvent);\r\n    }\r\n}\r\n\r\nuserEvents"
    }
  ],
  "metadata": {
    "kernelspec": {
      "displayName": "CSharp",
      "language": "csharp",
      "name": "csharp"
    },
    "language_info": {
      "codemirror_mode": "text/x-csharp",
      "file_extension": "ipynb",
      "mimetype": "application/json",
      "name": "csharp",
      "version": "7.3"
    },
    "nteract": {
      "version": "dataExplorer 1.0"
    }
  },
  "nbformat": 4,
  "nbformat_minor": 4
}